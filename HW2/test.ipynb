{
 "cells": [
  {
   "cell_type": "code",
   "execution_count": 176,
   "metadata": {},
   "outputs": [
    {
     "name": "stdout",
     "output_type": "stream",
     "text": [
      "Outlook=sunny\n",
      "| Temperature=hot\n",
      "| | Humidity=high\n",
      "| | | Wind = weak : y\n",
      "| | | Wind = strong : n\n",
      "| Temperature=cool\n",
      "| | Wind = weak : y\n",
      "| | Wind = strong : n\n",
      "Outlook = overcast : n\n",
      "Outlook = rain : y\n"
     ]
    }
   ],
   "source": [
    "class Node:\n",
    "    def __init__(self, attr, attrVals, parent='', branch=''):\n",
    "        self.attr = attr\n",
    "        self.values = {}\n",
    "        self.branch = branch\n",
    "        self.parent = parent\n",
    "        if attrVals is not None:\n",
    "            for v in attrVals:\n",
    "                self.values[v] = None\n",
    "            # self.values = list(self.values.items())\n",
    "                # setattr(self.values, v, None)\n",
    "\n",
    "outlookValues = [\"sunny\", \"overcast\", \"rain\"]\n",
    "tempValues = ['hot', 'mild', 'cool']\n",
    "humidityValues = ['high', 'normal']\n",
    "windValues = ['weak', 'strong']\n",
    "\n",
    "root = Node(\"Outlook\", outlookValues)\n",
    "\n",
    "root.values['sunny'] = Node(\"Temperature\", tempValues, 'Outlook', 'sunny')\n",
    "root.values['sunny'].values['hot'] = Node(\"Humidity\", humidityValues, 'Temperature', 'hot')\n",
    "root.values['sunny'].values['hot'].values[\"high\"] = Node(\"Wind\", windValues, 'Humidity', 'high')\n",
    "root.values['sunny'].values['hot'].values[\"high\"].values[\"strong\"] = Node(\"n\", None, 'Wind', 'strong')\n",
    "root.values['sunny'].values['hot'].values[\"high\"].values[\"weak\"] = Node(\"y\", None, 'Wind, weak')\n",
    "\n",
    "root.values['sunny'].values['cool'] = Node(\"Wind\", windValues, 'Temperature', 'cool')\n",
    "root.values['sunny'].values['cool'].values['weak'] = Node(\"y\", None, 'Wind', 'weak')\n",
    "root.values['sunny'].values['cool'].values['strong'] = Node(\"n\", None, 'Wind', 'strong')\n",
    "\n",
    "root.values['overcast'] = Node(\"n\", None, 'Outlook', 'overcast')\n",
    "root.values['rain'] = Node(\"y\", None, 'Outlook', 'rain')\n",
    "# root.values['sunny'] = Node(\"y\", None, 'Outlook', 'sunny')\n",
    "\n",
    "# root.values['sunny'].values['hot'].values['high']\n",
    "\n",
    "# print(root.values)\n",
    "# print_tree_indented(root, ' ')\n",
    "print_tree_indented(root)\n"
   ]
  },
  {
   "cell_type": "code",
   "execution_count": 180,
   "metadata": {},
   "outputs": [
    {
     "name": "stdout",
     "output_type": "stream",
     "text": [
      "Outlook=sunny\n",
      "|\tTemperature=hot\n",
      "|\t|\tHumidity=high\n",
      "|\t|\t|\tWind = weak : y\n",
      "|\t|\t|\tWind = strong : n\n",
      "|\tTemperature=cool\n",
      "|\t|\tWind = weak : y\n",
      "|\t|\tWind = strong : n\n",
      "Outlook = overcast : n\n",
      "Outlook = rain : y\n"
     ]
    }
   ],
   "source": [
    "class Node:\n",
    "    def __init__(self, attr, attrVals):\n",
    "        self.attr = attr\n",
    "        self.values = {}\n",
    "        # self.branch = branch\n",
    "        # self.parent = parent\n",
    "        if attrVals is not None:\n",
    "            for v in attrVals:\n",
    "                self.values[v] = None\n",
    "            # self.values = list(self.values.items())\n",
    "                # setattr(self.values, v, None)\n",
    "\n",
    "outlookValues = [\"sunny\", \"overcast\", \"rain\"]\n",
    "tempValues = ['hot', 'mild', 'cool']\n",
    "humidityValues = ['high', 'normal']\n",
    "windValues = ['weak', 'strong']\n",
    "\n",
    "root = Node(\"Outlook\", outlookValues)\n",
    "\n",
    "root.values['sunny'] = Node(\"Temperature\", tempValues)\n",
    "root.values['sunny'].values['hot'] = Node(\"Humidity\", humidityValues)\n",
    "root.values['sunny'].values['hot'].values[\"high\"] = Node(\"Wind\", windValues)\n",
    "root.values['sunny'].values['hot'].values[\"high\"].values[\"strong\"] = Node(\"n\", None)\n",
    "root.values['sunny'].values['hot'].values[\"high\"].values[\"weak\"] = Node(\"y\", None)\n",
    "\n",
    "root.values['sunny'].values['cool'] = Node(\"Wind\", windValues)\n",
    "root.values['sunny'].values['cool'].values['weak'] = Node(\"y\", None)\n",
    "root.values['sunny'].values['cool'].values['strong'] = Node(\"n\", None)\n",
    "\n",
    "root.values['overcast'] = Node(\"n\", None)\n",
    "root.values['rain'] = Node(\"y\", None)\n",
    "# root.values['sunny'] = Node(\"y\", None, 'Outlook', 'sunny')\n",
    "\n",
    "# root.values['sunny'].values['hot'].values['high']\n",
    "\n",
    "# print(root.values)\n",
    "# print_tree_indented(root, ' ')\n",
    "print_tree_indented(root)\n"
   ]
  },
  {
   "cell_type": "code",
   "execution_count": 179,
   "metadata": {},
   "outputs": [],
   "source": [
    "\n",
    "#Pre-order printing\n",
    "def print_tree_indented(tree, level=0):\n",
    "    if tree == None:\n",
    "        return\n",
    "    for i, val in enumerate(tree.values):\n",
    "        if tree.values[val] is not None:\n",
    "            valuesList = list(tree.values[val].values.items())\n",
    "            if valuesList: #NOt a leaf node\n",
    "                print('|\\t' * level + str(tree.attr) + '=' + val)\n",
    "                print_tree_indented(tree.values[val], level+1)\n",
    "            else: #This is a leaf node\n",
    "                print('|\\t' * level + str(tree.attr) + ' = ' + val + ' : ' + tree.values[val].attr)\n"
   ]
  },
  {
   "cell_type": "code",
   "execution_count": 7,
   "metadata": {},
   "outputs": [
    {
     "name": "stdout",
     "output_type": "stream",
     "text": [
      "['ada', 'btw', 'hbi', 'ghw', 'fvb', 'ete', 'tbh', 'cvh', 'dhr']\n"
     ]
    },
    {
     "data": {
      "text/plain": [
       "[0.0, 1.3, 1.3, 2.1, 2.5, 4.2, 6.2, 8.9, 9.1]"
      ]
     },
     "execution_count": 7,
     "metadata": {},
     "output_type": "execute_result"
    }
   ],
   "source": [
    "X = [\"ada\", \"btw\", \"cvh\", \"dhr\", \"ete\", \"fvb\", \"ghw\", \"tbh\", \"hbi\"]\n",
    "# Y = [ 0,   1,   1,    0,   1,   2,   2,   0,   1]\n",
    "Y = [ 0.0,   1.3,   8.9,    9.1,   4.2,   2.5,   2.1,   6.2,   1.3]\n",
    "\n",
    "Z = [x for _,x in sorted(zip(Y,X))]\n",
    "print(Z)\n",
    "Y.sort()\n",
    "Y"
   ]
  }
 ],
 "metadata": {
  "interpreter": {
   "hash": "31f2aee4e71d21fbe5cf8b01ff0e069b9275f58929596ceb00d14d90e3e16cd6"
  },
  "kernelspec": {
   "display_name": "Python 3.8.10 64-bit",
   "language": "python",
   "name": "python3"
  },
  "language_info": {
   "codemirror_mode": {
    "name": "ipython",
    "version": 3
   },
   "file_extension": ".py",
   "mimetype": "text/x-python",
   "name": "python",
   "nbconvert_exporter": "python",
   "pygments_lexer": "ipython3",
   "version": "3.6.2"
  },
  "orig_nbformat": 4
 },
 "nbformat": 4,
 "nbformat_minor": 2
}
