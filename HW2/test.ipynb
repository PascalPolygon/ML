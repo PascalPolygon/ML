{
 "cells": [
  {
   "cell_type": "code",
   "execution_count": 161,
   "metadata": {},
   "outputs": [
    {
     "name": "stdout",
     "output_type": "stream",
     "text": [
      "Outlook\n",
      "| sunny=y\n",
      "| overcast=n\n",
      "| rain=n\n"
     ]
    }
   ],
   "source": [
    "class Node:\n",
    "    def __init__(self, attr, attrVals, parent='', branch=''):\n",
    "        self.attr = attr\n",
    "        self.values = {}\n",
    "        self.branch = branch\n",
    "        self.parent = parent\n",
    "        if attrVals is not None:\n",
    "            for v in attrVals:\n",
    "                self.values[v] = None\n",
    "            # self.values = list(self.values.items())\n",
    "                # setattr(self.values, v, None)\n",
    "\n",
    "outlookValues = [\"sunny\", \"overcast\", \"rain\"]\n",
    "tempValues = ['hot', 'mild', 'cool']\n",
    "humidityValues = ['high', 'normal']\n",
    "windValues = ['weak', 'strong']\n",
    "\n",
    "root = Node(\"Outlook\", outlookValues)\n",
    "\n",
    "root.values['sunny'] = Node(\"Temperature\", tempValues, 'Outlook', 'sunny')\n",
    "root.values['sunny'].values['hot'] = Node(\"Humidity\", humidityValues, 'Temperature', 'hot')\n",
    "root.values['sunny'].values['hot'].values[\"high\"] = Node(\"Wind\", windValues, 'Humidity', 'high')\n",
    "root.values['sunny'].values['hot'].values[\"high\"].values[\"strong\"] = Node(\"n\", None, 'Wind', 'strong')\n",
    "root.values['sunny'].values['hot'].values[\"high\"].values[\"weak\"] = Node(\"y\", None, 'Wind, weak')\n",
    "\n",
    "root.values['sunny'].values['cool'] = Node(\"Wind\", windValues, 'Temperature', 'cool')\n",
    "root.values['sunny'].values['cool'].values['weak'] = Node(\"y\", None, 'Wind', 'weak')\n",
    "root.values['sunny'].values['cool'].values['strong'] = Node(\"n\", None, 'Wind', 'strong')\n",
    "\n",
    "root.values['overcast'] = Node(\"n\", None, 'Outlook', 'overcast')\n",
    "root.values['rain'] = Node(\"n\", None, 'Outlook', 'rain')\n",
    "root.values['sunny'] = Node(\"y\", None, 'Outlook', 'sunny')\n",
    "\n",
    "# root.values['sunny'].values['hot'].values['high']\n",
    "\n",
    "# print(root.values)\n",
    "print_tree_indented(root, ' ')\n"
   ]
  },
  {
   "cell_type": "code",
   "execution_count": 160,
   "metadata": {},
   "outputs": [],
   "source": [
    "#Pre-order printing\n",
    "def print_tree(tree):\n",
    "    if tree == None:\n",
    "        return\n",
    "    print(tree.attr)\n",
    "    for val in tree.values:\n",
    "        print_tree(tree.values[val])\n",
    "\n",
    "\n",
    "# def print_tree_indented(tree, level=0, attrId=0):\n",
    "#     if tree == None:\n",
    "#         return\n",
    "#     # if tree.values is not None:\n",
    "#     # print('| '*level + str(tree.attr), end=' ')\n",
    "#     valuesList = list(tree.values.items())\n",
    "#     if valuesList: #Make sure this is not a leaf node (valuesList is empty)\n",
    "#         print('| '*level, end=' ')\n",
    "#         print(valuesList)\n",
    "#         print('| '*level + str(attrId))\n",
    "#         value = valuesList[attrId][0]\n",
    "#         if valuesList[attrId][1] is not None:\n",
    "#             print('| '*level + str(tree.attr) + '=' + value)\n",
    "#         else:\n",
    "#             print('| '*level + str(tree.attr))\n",
    "#     else: #If it's a leaf node only print this attribute\n",
    "#         print('| '*level + str(tree.attr))\n",
    "        \n",
    "#     for i, val in enumerate(tree.values):\n",
    "#         print_tree_indented(tree.values[val], level+1, i)\n",
    "\n",
    "\n",
    "def print_tree_indented(tree, branch='', level=0):\n",
    "    if tree == None:\n",
    "        return\n",
    "    # print('| ' * level + str(tree.attr))\n",
    "    if tree.branch:\n",
    "        print('| ' * level + str(tree.branch) + '=' + str(tree.attr))\n",
    "    else:\n",
    "        print(tree.attr)\n",
    "    for i, val in enumerate(tree.values):\n",
    "        # print(val)\n",
    "        print_tree_indented(tree.values[val], tree.branch, level+1)\n"
   ]
  }
 ],
 "metadata": {
  "interpreter": {
   "hash": "31f2aee4e71d21fbe5cf8b01ff0e069b9275f58929596ceb00d14d90e3e16cd6"
  },
  "kernelspec": {
   "display_name": "Python 3.8.10 64-bit",
   "language": "python",
   "name": "python3"
  },
  "language_info": {
   "codemirror_mode": {
    "name": "ipython",
    "version": 3
   },
   "file_extension": ".py",
   "mimetype": "text/x-python",
   "name": "python",
   "nbconvert_exporter": "python",
   "pygments_lexer": "ipython3",
   "version": "3.8.10"
  },
  "orig_nbformat": 4
 },
 "nbformat": 4,
 "nbformat_minor": 2
}
