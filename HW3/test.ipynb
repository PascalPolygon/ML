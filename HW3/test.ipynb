{
 "cells": [
  {
   "cell_type": "code",
   "execution_count": 14,
   "metadata": {},
   "outputs": [
    {
     "data": {
      "text/plain": [
       "-1"
      ]
     },
     "execution_count": 14,
     "metadata": {},
     "output_type": "execute_result"
    }
   ],
   "source": [
    "w01 = -10\n",
    "w02 = 30\n",
    "\n",
    "wa1 = 20\n",
    "wa2 = -10\n",
    "\n",
    "wb1 = 20\n",
    "wb2 = -20\n",
    "\n",
    "w03 = -30\n",
    "w3 = 20\n",
    "w4 = 20\n",
    "\n",
    "# a = 0\n",
    "# b = 0\n",
    "# Exepect -1\n",
    "\n",
    "# a = 0\n",
    "# b = 1\n",
    "# #Expect 1\n",
    "\n",
    "# a = 1\n",
    "# b = 0\n",
    "# #Expect 1\n",
    "\n",
    "a = 1\n",
    "b = 1\n",
    "#Expect -1\n",
    "\n",
    "def activate(x):\n",
    "    if x > 0:\n",
    "        return 1\n",
    "    else:\n",
    "        return -1\n",
    "\n",
    "# net = w3*(a*wa1 + b*wb1 + w01) + w4*(a*wa2 + b*wb2 + w02) + w03\n",
    "net = activate(w3*activate(a*wa1 + b*wb1 + w01) + w4*activate(a*wa2 + b*wb2 + w02) + w03)\n",
    "net\n",
    "\n",
    "\n"
   ]
  },
  {
   "cell_type": "code",
   "execution_count": 13,
   "metadata": {},
   "outputs": [
    {
     "data": {
      "text/plain": [
       "0"
      ]
     },
     "execution_count": 13,
     "metadata": {},
     "output_type": "execute_result"
    }
   ],
   "source": [
    "int(False)"
   ]
  }
 ],
 "metadata": {
  "interpreter": {
   "hash": "38740d3277777e2cd7c6c2cc9d8addf5118fdf3f82b1b39231fd12aeac8aee8b"
  },
  "kernelspec": {
   "display_name": "Python 3.7.6 32-bit",
   "language": "python",
   "name": "python3"
  },
  "language_info": {
   "codemirror_mode": {
    "name": "ipython",
    "version": 3
   },
   "file_extension": ".py",
   "mimetype": "text/x-python",
   "name": "python",
   "nbconvert_exporter": "python",
   "pygments_lexer": "ipython3",
   "version": "3.7.6"
  },
  "orig_nbformat": 4
 },
 "nbformat": 4,
 "nbformat_minor": 2
}
