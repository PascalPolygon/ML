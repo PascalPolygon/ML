{
 "cells": [
  {
   "cell_type": "code",
   "execution_count": 34,
   "metadata": {},
   "outputs": [
    {
     "name": "stdout",
     "output_type": "stream",
     "text": [
      "h1 1\n",
      "h2 -1\n",
      "out -3\n",
      "net -1\n"
     ]
    }
   ],
   "source": [
    "w01 = -1\n",
    "w02 = 3\n",
    "\n",
    "wa1 = 2\n",
    "wa2 = -1\n",
    "\n",
    "wb1 = 2\n",
    "wb2 = -2\n",
    "\n",
    "w03 = -3\n",
    "w3 = 2\n",
    "w4 = 2\n",
    "\n",
    "# a = 0\n",
    "# b = 0\n",
    "# Exepect -1\n",
    "\n",
    "# a = 0\n",
    "# b = 1\n",
    "# #Expect 1\n",
    "\n",
    "# a = 1\n",
    "# b = 0\n",
    "# #Expect 1\n",
    "\n",
    "a = 1\n",
    "b = 1\n",
    "#Expect -1\n",
    "\n",
    "def activate(x):\n",
    "    if x > 0:\n",
    "        return 1\n",
    "    else:\n",
    "        return -1\n",
    "\n",
    "h1 = activate(a*wa1 + b*wb1 + w01)\n",
    "h2 = activate(a*wa2 + b*wb2 + w02)\n",
    "# net = w3*(a*wa1 + b*wb1 + w01) + w4*(a*wa2 + b*wb2 + w02) + w03\n",
    "out = w3*h1 + w4*h2 + w03\n",
    "\n",
    "net = activate(out)\n",
    "print(f'h1 {h1}')\n",
    "print(f'h2 {h2}')\n",
    "print(f'out {out}')\n",
    "print(f'net {net}')\n",
    "\n",
    "\n"
   ]
  },
  {
   "cell_type": "code",
   "execution_count": 2,
   "metadata": {},
   "outputs": [
    {
     "data": {
      "text/plain": [
       "0"
      ]
     },
     "execution_count": 2,
     "metadata": {},
     "output_type": "execute_result"
    }
   ],
   "source": [
    "import random\n",
    "\n",
    "random.randint(0,1)"
   ]
  },
  {
   "cell_type": "code",
   "execution_count": 1,
   "metadata": {},
   "outputs": [
    {
     "data": {
      "text/plain": [
       "['4']"
      ]
     },
     "execution_count": 1,
     "metadata": {},
     "output_type": "execute_result"
    }
   ],
   "source": [
    "# int(False)\n",
    "# from math import e\n",
    "# 1/(1 + e**-(-0.6431141973))\n",
    "\n",
    "[1, 3, 4, 3] + [4, 5, 5, 1]\n",
    "\n",
    "'4'.split('-')"
   ]
  },
  {
   "cell_type": "markdown",
   "metadata": {},
   "source": [
    "```\n",
    "optional arguments:\n",
    "  -h, --help            show this help message and exit\n",
    "  --max_iter MAX_ITER   max training iterations\n",
    "  --lr LR               learning rate\n",
    "  --momentum MOMENTUM   momentum hyperparameter\n",
    "  --hidden_units HIDDEN_UNITS\n",
    "                        number of hidden units\n",
    "  --validation VALIDATION\n",
    "                        percentage of data to keep for validation\n",
    "  --hidden_arch HIDDEN_ARCH\n",
    "                        customer hidden layers architecture. Format:\n",
    "                        #units-#units-#units (e.g. 1-3-2)\n",
    "  --verbose VERBOSE     verbose\n",
    "  --loss_thresh LOSS_THRESH\n",
    "                        Maximum difference between loss of bestweights vs\n",
    "                        training weights on validation data\n",
    "```\n",
    "\n",
    "## Example run commands:\n",
    "\n",
    "  python3 testIdentity.py --max_iter 10 --lr 5 \n",
    "\n",
    "  python3 testTennis.py --max_iter 10 --lr 5 --hidden_units 4\n",
    "\n",
    "  python3 testIrisNoisy.py --validation 0.3 --momentum 0.1\n",
    "  \n",
    "  python3 testIris.py --validation 0.3 --momentum 0.1 --hidden_arch 3-4\n",
    "\n",
    "**Notes on hidden_arch:**\n",
    "  In this implementation, it is possiblie to construct networks with multiple hidden layers not just 1. By default a network with 1 hidden layer is constructed with 3 hidden units. The number of hidden units can be set by the user with the --hidden_units option. To construct networks with multiple hidden layers, use --hidden_arch. For example the option --hidden_arch 3-4-3 will have 3 hidden layers with 3, 4 and 3 hidden units respectively. \n",
    "\n",
    "\n",
    "It was found that testIdentity achieves the best performance when using a high learning rate, lr=5 was used while testing."
   ]
  }
 ],
 "metadata": {
  "interpreter": {
   "hash": "38740d3277777e2cd7c6c2cc9d8addf5118fdf3f82b1b39231fd12aeac8aee8b"
  },
  "kernelspec": {
   "display_name": "Python 3.7.6 32-bit",
   "language": "python",
   "name": "python3"
  },
  "language_info": {
   "codemirror_mode": {
    "name": "ipython",
    "version": 3
   },
   "file_extension": ".py",
   "mimetype": "text/x-python",
   "name": "python",
   "nbconvert_exporter": "python",
   "pygments_lexer": "ipython3",
   "version": "3.7.6"
  },
  "orig_nbformat": 4
 },
 "nbformat": 4,
 "nbformat_minor": 2
}
