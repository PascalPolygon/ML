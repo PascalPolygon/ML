{
 "cells": [
  {
   "cell_type": "code",
   "execution_count": 34,
   "metadata": {},
   "outputs": [
    {
     "name": "stdout",
     "output_type": "stream",
     "text": [
      "h1 1\n",
      "h2 -1\n",
      "out -3\n",
      "net -1\n"
     ]
    }
   ],
   "source": [
    "w01 = -1\n",
    "w02 = 3\n",
    "\n",
    "wa1 = 2\n",
    "wa2 = -1\n",
    "\n",
    "wb1 = 2\n",
    "wb2 = -2\n",
    "\n",
    "w03 = -3\n",
    "w3 = 2\n",
    "w4 = 2\n",
    "\n",
    "# a = 0\n",
    "# b = 0\n",
    "# Exepect -1\n",
    "\n",
    "# a = 0\n",
    "# b = 1\n",
    "# #Expect 1\n",
    "\n",
    "# a = 1\n",
    "# b = 0\n",
    "# #Expect 1\n",
    "\n",
    "a = 1\n",
    "b = 1\n",
    "#Expect -1\n",
    "\n",
    "def activate(x):\n",
    "    if x > 0:\n",
    "        return 1\n",
    "    else:\n",
    "        return -1\n",
    "\n",
    "h1 = activate(a*wa1 + b*wb1 + w01)\n",
    "h2 = activate(a*wa2 + b*wb2 + w02)\n",
    "# net = w3*(a*wa1 + b*wb1 + w01) + w4*(a*wa2 + b*wb2 + w02) + w03\n",
    "out = w3*h1 + w4*h2 + w03\n",
    "\n",
    "net = activate(out)\n",
    "print(f'h1 {h1}')\n",
    "print(f'h2 {h2}')\n",
    "print(f'out {out}')\n",
    "print(f'net {net}')\n",
    "\n",
    "\n"
   ]
  },
  {
   "cell_type": "code",
   "execution_count": 1,
   "metadata": {},
   "outputs": [
    {
     "data": {
      "text/plain": [
       "[1, 3, 4, 3, 4, 5, 5, 1]"
      ]
     },
     "execution_count": 1,
     "metadata": {},
     "output_type": "execute_result"
    }
   ],
   "source": [
    "# int(False)\n",
    "# from math import e\n",
    "# 1/(1 + e**-(-0.6431141973))\n",
    "\n",
    "[1, 3, 4, 3] + [4, 5, 5, 1]"
   ]
  }
 ],
 "metadata": {
  "interpreter": {
   "hash": "38740d3277777e2cd7c6c2cc9d8addf5118fdf3f82b1b39231fd12aeac8aee8b"
  },
  "kernelspec": {
   "display_name": "Python 3.7.6 32-bit",
   "language": "python",
   "name": "python3"
  },
  "language_info": {
   "codemirror_mode": {
    "name": "ipython",
    "version": 3
   },
   "file_extension": ".py",
   "mimetype": "text/x-python",
   "name": "python",
   "nbconvert_exporter": "python",
   "pygments_lexer": "ipython3",
   "version": "3.7.6"
  },
  "orig_nbformat": 4
 },
 "nbformat": 4,
 "nbformat_minor": 2
}
