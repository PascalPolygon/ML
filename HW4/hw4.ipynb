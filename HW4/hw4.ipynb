{
 "cells": [
  {
   "cell_type": "code",
   "execution_count": null,
   "metadata": {},
   "outputs": [],
   "source": [
    "LEARN-ONE-RULE(T~~~~~~~~~~~U~~, Attributes, Examples, k)\n",
    "    Returns a single rule that covers some of the Examples. Conducts a generalJotospec$c\n",
    "    greedy beam search for the best rule, guided by the PERFORMANCE metric.\n",
    "    a Initialize Besthypothesis to the most general hypothesis 0\n",
    "    a Initialize Candidatehypotheses to the set (Besthypothesis)\n",
    "    a While Candidatehypotheses is not empty, Do\n",
    "        I. Generate the next more spec@ candidatehypotheses\n",
    "        a Allronstraints c the set of all constraints of the form (a = v), where a is a member\n",
    "        of Attributes, and v is a value of a that occurs in the current set of Examples\n",
    "        a Newrandidatehypotheses c\n",
    "        for each h in Candidatehypotheses,\n",
    "        for each c in Alll-onstraints,\n",
    "        create a specialization of h by adding the constraint c\n",
    "        a Remove from Newl-andidatehypotheses any hypotheses that are duplicates, inconsistent, or not maximally specific\n",
    "    2. Update Besthypothesis\n",
    "        a For all h in Newnandidatehypotheses do\n",
    "        a If PERFORMANCE(^, Examples, Targetattribute)\n",
    "        z PERFORMANCE(Besthypothesis, Examples, Targetattribute))\n",
    "        Then Besthypothesis t h\n",
    "    3. Update Candidatehypotheses\n",
    "        a Candidatehypotheses c the k best members of New-candidatehypotheses, according\n",
    "        to the PERFORMANCE measure.\n",
    "        a Return a rule of the form\n",
    "        \"IF Best hypothesis THEN prediction\"\n",
    "        where prediction is the most frequent value of Targetattribute among those Examples\n",
    "        that match Besthypothesis"
   ]
  },
  {
   "cell_type": "markdown",
   "metadata": {},
   "source": [
    "# 9.4\n",
    "A 3x2x1 Neural Network as 11 weights inlcluding the bias units' weights. We can representent the value of each weight as a binary string using the IEEE 754 format. Then a hypothesis would be represented as bit string containing 352 bits. That is, 11 concatenated 32 bit strings. As the size of any hypothesis of this type will have a fixed number of 352 bits. We can use the regular single-point, double point and uniform crossover techniques as well as single point mutation. However, single-point and double point crossover are likely to cover the exponent part of IEEE 754 representation, thus producing offsprings that are vastly different from their parents. To ensure that the hypothesis search converges, it is desirable to avoid performing cross over the exponent part of the 32 bit binary representation. For this reason, uniform cross over modified to ommit bits 30 through 23 of each 32 bit segment is chosen as the crossover operator.\n",
    "\n",
    "Because GA keeps a serveral high-performing hypotheses at each iteration, it is less likely than BackPropagation to get stuck at a local minimum. However, performing operations on serveral hypotheses instead of one comes at the cost of running time, making GA much slower than BackPropagation.\n",
    "\n",
    "# 10.1\n",
    "- $2^d -1$ rules will be formed\n",
    "- Each rule will posess $d-1$ preconditions\n",
    "- It is challenging to determine how many choices seq-covering will make, because seq-convering generates rules until a performance threshold is met. \n",
    "\n",
    "Seq-covering is more prone to overfitting because decisions about rules are made on smaller subset of rules compared to ID3. seq-covering will output set of rules that have high accuracy on the data they cover but have low coverage (They do not cover many examples)\n",
    "\n",
    "# 10.3\n",
    "- Add User_constraints input parameter to Learn-One-Rule function ```(LEARN-ONE-RULE(Target_attribute, Attributes, Examples, k, User_constraints))```\n",
    "- Under the following line:\n",
    "\n",
    "```Allcronstraints <- the set of all constraints of the form (a = v), where a is a member of Attributes, and v is a value of a that occurs in the current set of Examples ```\n",
    "\n",
    "add\n",
    "```\n",
    "for c in Allconstraints\n",
    "    for u_c in User_constraints\n",
    "        if c.attribute == u_c.attribute\n",
    "            c = u_c\n",
    "```"
   ]
  },
  {
   "cell_type": "markdown",
   "metadata": {},
   "source": []
  },
  {
   "cell_type": "markdown",
   "metadata": {},
   "source": []
  },
  {
   "cell_type": "markdown",
   "metadata": {},
   "source": []
  },
  {
   "cell_type": "markdown",
   "metadata": {},
   "source": [
    "# 10.6\n",
    "$C2 = P(x, A) V \\neg S(B,y) $\n",
    "\n",
    "subject to ${A/x}, {B/x}, {A/y}, {A/x}$"
   ]
  },
  {
   "cell_type": "code",
   "execution_count": null,
   "metadata": {},
   "outputs": [],
   "source": [
    "A 3x2x1 Neural Network "
   ]
  },
  {
   "cell_type": "code",
   "execution_count": 1,
   "metadata": {},
   "outputs": [
    {
     "data": {
      "text/plain": [
       "'001010101111000001001000111110111111111111'"
      ]
     },
     "execution_count": 1,
     "metadata": {},
     "output_type": "execute_result"
    }
   ],
   "source": [
    "f'{0xABC123EFFF:0>42b}'"
   ]
  },
  {
   "cell_type": "code",
   "execution_count": 22,
   "metadata": {},
   "outputs": [
    {
     "data": {
      "text/plain": [
       "'01000000100001100110011001100110'"
      ]
     },
     "execution_count": 22,
     "metadata": {},
     "output_type": "execute_result"
    }
   ],
   "source": [
    "import struct\n",
    "f =  1.2717441261e+20\n",
    "f = 4.2\n",
    "buf = struct.pack(\">f\", f)\n",
    "# print(buf)\n",
    "buf_str = ''.join(\"%x\" % ord(c) for c in struct.unpack(\">4c\", buf) )\n",
    "# an_integer = int(buf_str, 32)\n",
    "\n",
    "# hex_value = hex(an_integer)\n",
    "# print(hex_value)\n",
    "# buf_str\n",
    "# f'{hex_value:0>32b}'\n",
    "f'{0x301ac4b189:0>32b}'\n",
    "# f'{hex(an_integer):0>32b}'\n",
    "\n",
    "# f'{float.hex(f):0>32b}'\n",
    "bin(int(buf_str, 16))[2:].zfill(32)\n",
    "# struct.pack('f', f).encode('hex')\n"
   ]
  },
  {
   "cell_type": "code",
   "execution_count": 13,
   "metadata": {},
   "outputs": [
    {
     "name": "stdout",
     "output_type": "stream",
     "text": [
      "0xff\n"
     ]
    }
   ],
   "source": [
    "# hex('0XFF')\n",
    "an_integer = int('0XFF', 16)\n",
    "\n",
    "hex_value = hex(an_integer)\n",
    "print(hex_value)"
   ]
  },
  {
   "cell_type": "code",
   "execution_count": 26,
   "metadata": {},
   "outputs": [
    {
     "ename": "ValueError",
     "evalue": "Unknown format code 'b' for object of type 'float'",
     "output_type": "error",
     "traceback": [
      "\u001b[1;31m---------------------------------------------------------------------------\u001b[0m",
      "\u001b[1;31mValueError\u001b[0m                                Traceback (most recent call last)",
      "\u001b[1;32m<ipython-input-26-948fd6674f02>\u001b[0m in \u001b[0;36m<module>\u001b[1;34m\u001b[0m\n\u001b[1;32m----> 1\u001b[1;33m \u001b[1;34m'{:032b}'\u001b[0m\u001b[1;33m.\u001b[0m\u001b[0mformat\u001b[0m\u001b[1;33m(\u001b[0m\u001b[1;36m2.3\u001b[0m\u001b[1;33m)\u001b[0m\u001b[1;33m\u001b[0m\u001b[1;33m\u001b[0m\u001b[0m\n\u001b[0m\u001b[0;32m      2\u001b[0m \u001b[1;34m'00000000000000000000000001100100'\u001b[0m\u001b[1;33m\u001b[0m\u001b[1;33m\u001b[0m\u001b[0m\n",
      "\u001b[1;31mValueError\u001b[0m: Unknown format code 'b' for object of type 'float'"
     ]
    }
   ],
   "source": [
    "'{:032b}'.format(2.3)\n",
    "'00000000000000000000000001100100'"
   ]
  },
  {
   "cell_type": "code",
   "execution_count": 24,
   "metadata": {},
   "outputs": [
    {
     "name": "stdout",
     "output_type": "stream",
     "text": [
      "Binary equivalent of 19.5:\n",
      "100000000110011100000000000000000000000000000000000000000000000\n",
      "\n"
     ]
    }
   ],
   "source": [
    "import struct\n",
    "getBin = lambda x: x > 0 and str(bin(x))[2:] or \"-\" + str(bin(x))[3:]\n",
    "\n",
    "def floatToBinary64(value):\n",
    "    val = struct.unpack('Q', struct.pack('d', value))[0]\n",
    "    return getBin(val)\n",
    "\n",
    "def binaryToFloat(value):\n",
    "    hx = hex(int(value, 2))   \n",
    "    return struct.unpack(\"d\", struct.pack(\"q\", int(hx, 16)))[0]\n",
    "\n",
    "# floats are represented by IEEE 754 floating-point format which are \n",
    "# 64 bits long (not 32 bits)\n",
    "\n",
    "# float to binary\n",
    "binstr = floatToBinary64(19.5)\n",
    "print('Binary equivalent of 19.5:')\n",
    "print(binstr + '\\n')\n",
    "\n",
    "# binary to float\n",
    "# fl = binaryToFloat(binstr)\n",
    "# print('Decimal equivalent of ' + binstr)\n",
    "# print(fl)\n",
    "01000001100111000000000000000000"
   ]
  },
  {
   "cell_type": "code",
   "execution_count": 2,
   "metadata": {},
   "outputs": [
    {
     "data": {
      "text/plain": [
       "'100.001'"
      ]
     },
     "execution_count": 2,
     "metadata": {},
     "output_type": "execute_result"
    }
   ],
   "source": [
    "def float_bin(my_number, places = 3):\n",
    "    my_whole, my_dec = str(my_number).split(\".\")\n",
    "    my_whole = int(my_whole)\n",
    "    res = (str(bin(my_whole))+\".\").replace('0b','')\n",
    "    for x in range(places):\n",
    "        my_dec = str('0.')+str(my_dec)\n",
    "        temp = '%1.20f' %(float(my_dec)*2)\n",
    "        my_whole, my_dec = temp.split(\".\")\n",
    "        res += my_whole\n",
    "    return res\n",
    "\n",
    "float_bin(4.2)"
   ]
  },
  {
   "cell_type": "code",
   "execution_count": 31,
   "metadata": {},
   "outputs": [
    {
     "name": "stdout",
     "output_type": "stream",
     "text": [
      "IEEE 754 representation of -2.250000 is :\n",
      "0|1111111|011001100110011001100110011001100110011001100110011\n"
     ]
    }
   ],
   "source": [
    "\n",
    "# Python program to convert a real value\n",
    "# to IEEE 754 Floating Point Representation.\n",
    " \n",
    "# Function to convert a\n",
    "# fraction to binary form.\n",
    "def binaryOfFraction(fraction):\n",
    " \n",
    "    # Declaring an empty string\n",
    "    # to store binary bits.\n",
    "    binary = str()\n",
    " \n",
    "    # Iterating through\n",
    "    # fraction until it\n",
    "    # becomes Zero.\n",
    "    while (fraction):\n",
    "         \n",
    "        # Multiplying fraction by 2.\n",
    "        fraction *= 2\n",
    " \n",
    "        # Storing Integer Part of\n",
    "        # Fraction in int_part.\n",
    "        if (fraction >= 1):\n",
    "            int_part = 1\n",
    "            fraction -= 1\n",
    "        else:\n",
    "            int_part = 0\n",
    "     \n",
    "        # Adding int_part to binary\n",
    "        # after every iteration.\n",
    "        binary += str(int_part)\n",
    " \n",
    "    # Returning the binary string.\n",
    "    return binary\n",
    " \n",
    "# Function to get sign  bit,\n",
    "# exp bits and mantissa bits,\n",
    "# from given real no.\n",
    "def floatingPoint(real_no):\n",
    " \n",
    "    # Setting Sign bit\n",
    "    # default to zero.\n",
    "    sign_bit = 0\n",
    " \n",
    "    # Sign bit will set to\n",
    "    # 1 for negative no.\n",
    "    if(real_no < 0):\n",
    "        sign_bit = 1\n",
    " \n",
    "    # converting given no. to\n",
    "    # absolute value as we have\n",
    "    # already set the sign bit.\n",
    "    real_no = abs(real_no)\n",
    " \n",
    "    # Converting Integer Part\n",
    "    # of Real no to Binary\n",
    "    int_str = bin(int(real_no))[2 : ]\n",
    " \n",
    "    # Function call to convert\n",
    "    # Fraction part of real no\n",
    "    # to Binary.\n",
    "    fraction_str = binaryOfFraction(real_no - int(real_no))\n",
    " \n",
    "    # Getting the index where\n",
    "    # Bit was high for the first\n",
    "    # Time in binary repres\n",
    "    # of Integer part of real no.\n",
    "    ind = int_str.index('1')\n",
    " \n",
    "    # The Exponent is the no.\n",
    "    # By which we have right\n",
    "    # Shifted the decimal and\n",
    "    # it is given below.\n",
    "    # Also converting it to bias\n",
    "    # exp by adding 127.\n",
    "    exp_str = bin((len(int_str) - ind - 1) + 127)[2 : ]\n",
    " \n",
    "    # getting mantissa string\n",
    "    # By adding int_str and fraction_str.\n",
    "    # the zeroes in MSB of int_str\n",
    "    # have no significance so they\n",
    "    # are ignored by slicing.\n",
    "    mant_str = int_str[ind + 1 : ] + fraction_str\n",
    " \n",
    "    # Adding Zeroes in LSB of\n",
    "    # mantissa string so as to make\n",
    "    # it's length of 23 bits.\n",
    "    mant_str = mant_str + ('0' * (23 - len(mant_str)))\n",
    " \n",
    "    # Returning the sign, Exp\n",
    "    # and Mantissa Bit strings.\n",
    "    return sign_bit, exp_str, mant_str\n",
    " \n",
    "# Driver Code\n",
    "if __name__ == \"__main__\":\n",
    " \n",
    "    # Function call to get\n",
    "    # Sign, Exponent and\n",
    "    # Mantissa Bit Strings.\n",
    "    4.2\n",
    "    sign_bit, exp_str, mant_str = floatingPoint(1.4)\n",
    " \n",
    "    # Final Floating point Representation.\n",
    "    ieee_32 = str(sign_bit) + '|' + exp_str + '|' + mant_str\n",
    " \n",
    "    # Printing the ieee 32 representation.\n",
    "    print(\"IEEE 754 representation of -2.250000 is :\")\n",
    "    print(ieee_32)\n",
    "    # 010000001 \n",
    "    # 00001100110011001100110\n",
    "    # 00001100110011001100110 01100110011001100110011001101"
   ]
  },
  {
   "cell_type": "code",
   "execution_count": null,
   "metadata": {},
   "outputs": [],
   "source": []
  },
  {
   "cell_type": "code",
   "execution_count": 36,
   "metadata": {},
   "outputs": [
    {
     "data": {
      "text/plain": [
       "'0001010'"
      ]
     },
     "execution_count": 36,
     "metadata": {},
     "output_type": "execute_result"
    }
   ],
   "source": [
    "f'{10:07b}'"
   ]
  },
  {
   "cell_type": "markdown",
   "metadata": {},
   "source": [
    "```\n",
    "optional arguments:\n",
    "usage: [-h] [--q Q] [--r R] [--m M]\n",
    "       [--fitness_thresh FITNESS_THRESH] [--max_gen MAX_GEN]\n",
    "       [--sel_strategy SEL_STRATEGY] [--verbose VERBOSE]\n",
    "```\n",
    "\n",
    "\n",
    "**Notes on --q option**\n",
    " In this implementation, the population size p is automatically obtained for the ```--q``` argument which refers to total number of individual rules. The number of hypotheses is ```p``` is a consequence of randomly assigning ```q``` rules to various hypoetheses. See ```generate_hypotheses``` in ```gabil.py``` for more detail. \n",
    "\n",
    "**Notes on continous values**\n",
    " In this implementation, iris continous values are represented as a 7bit interger (in binary), instead of using IEEE 754 32 bit representation. This is done by first scaling the values by a factor of 10 and then converting to integer. Doing this allows unconstrained crossover as we don't have to be careful to avoid the sign and exponent bits during crossover.\n",
    "\n",
    "## Example run commands:\n",
    "```\n",
    "  python3 testTennis.py --fitness-thresh 100 --q 1000 #--fitness-thres is a required argument for testTennis.py\n",
    "\n",
    "  python3 testIris.py --fitness-thresh 100 --q 1000 --sel_stragegy rank # --fitness-thres is a required argument for testIris.py\n",
    "\n",
    "  python3 testIrisSelection.py --max_gen 100 --q 1000\n",
    "\n",
    "  python3 testIrisReplacement.py --max_gen 2\n",
    "```\n",
    "\n",
    "**Notes on hidden_arch:**\n",
    "  In this implementation, it is possiblie to construct networks with multiple hidden layers not just 1. By default a network with 1 hidden layer is constructed with 3 hidden units. The number of hidden units can be set by the user with the ```--hidden_units``` option. To construct networks with multiple hidden layers, use ```--hidden_arch```. For example the option ```--hidden_arch 3-4-3``` will have 3 hidden layers with 3, 4 and 3 hidden units respectively. \n",
    "\n",
    "## Running testIdentity\n",
    "It was found that testIdentity achieves the best performance when using a high learning rate, lr=5 was used while testing."
   ]
  }
 ],
 "metadata": {
  "interpreter": {
   "hash": "38740d3277777e2cd7c6c2cc9d8addf5118fdf3f82b1b39231fd12aeac8aee8b"
  },
  "kernelspec": {
   "display_name": "Python 3.7.6 32-bit",
   "language": "python",
   "name": "python3"
  },
  "language_info": {
   "codemirror_mode": {
    "name": "ipython",
    "version": 3
   },
   "file_extension": ".py",
   "mimetype": "text/x-python",
   "name": "python",
   "nbconvert_exporter": "python",
   "pygments_lexer": "ipython3",
   "version": "3.7.6"
  },
  "orig_nbformat": 4
 },
 "nbformat": 4,
 "nbformat_minor": 2
}
