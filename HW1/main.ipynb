{
 "cells": [
  {
   "cell_type": "code",
   "execution_count": 4,
   "metadata": {},
   "outputs": [
    {
     "data": {
      "text/plain": [
       "4"
      ]
     },
     "execution_count": 4,
     "metadata": {},
     "output_type": "execute_result"
    }
   ],
   "source": [
    "import numpy as np\n",
    "# a = np.array([0, 3, 0, 1, 0, 1, 2, 1, 0, 0, 0, 0, 1, 3, 4])\n",
    "a = np.array([[0, 3, 0], [1, 0, 1], [2, 1, 0]])\n",
    "np.count_nonzero(a==0)\n",
    "# unique, counts = np.unique(a, return_counts=True)\n",
    "# dict(zip(unique, counts))\n"
   ]
  },
  {
   "cell_type": "code",
   "execution_count": 7,
   "metadata": {},
   "outputs": [
    {
     "data": {
      "text/plain": [
       "2"
      ]
     },
     "execution_count": 7,
     "metadata": {},
     "output_type": "execute_result"
    }
   ],
   "source": [
    "# def count(b, val):\n",
    "#     return sum(x == val for row in b for x in row)\n",
    "\n",
    "def count1d(r, val):\n",
    "        return sum(x == val for x in r)\n",
    "# count([[1,0,], [0,0], [0,1]], 1)\n",
    "count1d([1,4,5,2,5], 5)\n"
   ]
  },
  {
   "cell_type": "code",
   "execution_count": 15,
   "metadata": {},
   "outputs": [
    {
     "name": "stdout",
     "output_type": "stream",
     "text": [
      "[[1, 2, 3], [4, 5, 6], [7, 8, 9]]\n",
      "[[1, 4, 7], [2, 5, 8], [3, 6, 9]]\n"
     ]
    }
   ],
   "source": [
    "def transposeBoard(b):\n",
    "    # b_T[0][0] same\n",
    "    b_T = [[0,0,0],[0,0,0],[0,0,0]]\n",
    "    b_T[0][0] = b[0][0] #same\n",
    "    b_T[0][1] = b[1][0] \n",
    "    b_T[0][2] = b[2][0]\n",
    "    \n",
    "    b_T[1][0] = b[0][1]\n",
    "    b_T[1][1] = b[1][1]  #same\n",
    "    b_T[1][2] = b[2][1]\n",
    "\n",
    "    b_T[2][0] = b[0][2]\n",
    "    b_T[2][1] = b[1][2]\n",
    "    b_T[2][2] = b[2][2] #same\n",
    "    # b_T[1][2] = b[2][1]\n",
    "    # b_T[2][2] same\n",
    "    return b_T\n",
    "\n",
    "b = [[1,2,3],\n",
    "     [4,5,6],\n",
    "     [7,8,9]]\n",
    "b_t = transposeBoard(b)\n",
    "print(b)\n",
    "print(b_t)\n",
    "\n"
   ]
  },
  {
   "cell_type": "code",
   "execution_count": 44,
   "metadata": {},
   "outputs": [
    {
     "data": {
      "text/plain": [
       "([], [])"
      ]
     },
     "execution_count": 44,
     "metadata": {},
     "output_type": "execute_result"
    }
   ],
   "source": [
    "b = [[1, 2, 3],\n",
    "     [4, 5, 4],\n",
    "     [7, 4, 9]]\n",
    "\n",
    "b_np = np.array(b)\n",
    "\n",
    "\n",
    "# def index_2d(myList, v):\n",
    "#     for i, x in enumerate(myList):\n",
    "#         if v in x:\n",
    "#             return i, x.index(v)\n",
    "\n",
    "b = [[1, -1, 1],\n",
    "     [1, -1, 1],\n",
    "     [1, -1, 1]]\n",
    "\n",
    "def index_2d(b, val):\n",
    "    # rows = []\n",
    "    # cols = []\n",
    "    indices = []\n",
    "    for i, x in enumerate(b):\n",
    "        for j, n in enumerate(x):\n",
    "            if n==val:\n",
    "                # rows.append(i)\n",
    "                # cols.append(j)\n",
    "                indices.append([i, j])\n",
    "    return indices\n",
    "\n",
    "def invertBoard(b):\n",
    "    invertedBoard = [[0,0,0],[0,0,0],[0,0,0]]\n",
    "    selfPos = index_2d(b, 1)\n",
    "    oppnPos = index_2d(b, -1)\n",
    "\n",
    "    for pos in selfPos:\n",
    "        invertedBoard[pos[0]][pos[1]] = -1\n",
    "    for pos in oppnPos:\n",
    "        invertedBoard[pos[0]][pos[1]] = 1\n",
    "    \n",
    "    return invertedBoard\n",
    "\n",
    "\n",
    "\n",
    "index_2d(b, 4)\n"
   ]
  },
  {
   "cell_type": "code",
   "execution_count": 49,
   "metadata": {},
   "outputs": [
    {
     "ename": "TypeError",
     "evalue": "list indices must be integers or slices, not tuple",
     "output_type": "error",
     "traceback": [
      "\u001b[0;31m---------------------------------------------------------------------------\u001b[0m",
      "\u001b[0;31mTypeError\u001b[0m                                 Traceback (most recent call last)",
      "\u001b[0;32m<ipython-input-49-4781ae17bd7b>\u001b[0m in \u001b[0;36m<module>\u001b[0;34m\u001b[0m\n\u001b[0;32m----> 1\u001b[0;31m \u001b[0mb\u001b[0m\u001b[0;34m[\u001b[0m\u001b[0;36m0\u001b[0m\u001b[0;34m,\u001b[0m\u001b[0;36m2\u001b[0m\u001b[0;34m]\u001b[0m \u001b[0;34m=\u001b[0m \u001b[0;34m-\u001b[0m\u001b[0;36m1\u001b[0m\u001b[0;34m\u001b[0m\u001b[0;34m\u001b[0m\u001b[0m\n\u001b[0m\u001b[1;32m      2\u001b[0m \u001b[0mb\u001b[0m\u001b[0;34m\u001b[0m\u001b[0;34m\u001b[0m\u001b[0m\n",
      "\u001b[0;31mTypeError\u001b[0m: list indices must be integers or slices, not tuple"
     ]
    }
   ],
   "source": [
    "b[0,2] = -1\n",
    "b"
   ]
  },
  {
   "cell_type": "code",
   "execution_count": 46,
   "metadata": {},
   "outputs": [
    {
     "ename": "TypeError",
     "evalue": "list indices must be integers or slices, not tuple",
     "output_type": "error",
     "traceback": [
      "\u001b[0;31m---------------------------------------------------------------------------\u001b[0m",
      "\u001b[0;31mTypeError\u001b[0m                                 Traceback (most recent call last)",
      "\u001b[0;32m<ipython-input-46-cc07984b5314>\u001b[0m in \u001b[0;36m<module>\u001b[0;34m\u001b[0m\n\u001b[1;32m      8\u001b[0m     \u001b[0;32mreturn\u001b[0m \u001b[0mb\u001b[0m\u001b[0;34m\u001b[0m\u001b[0;34m\u001b[0m\u001b[0m\n\u001b[1;32m      9\u001b[0m \u001b[0;34m\u001b[0m\u001b[0m\n\u001b[0;32m---> 10\u001b[0;31m \u001b[0minvertBoard\u001b[0m\u001b[0;34m(\u001b[0m\u001b[0mb\u001b[0m\u001b[0;34m)\u001b[0m\u001b[0;34m\u001b[0m\u001b[0;34m\u001b[0m\u001b[0m\n\u001b[0m",
      "\u001b[0;32m<ipython-input-46-cc07984b5314>\u001b[0m in \u001b[0;36minvertBoard\u001b[0;34m(b)\u001b[0m\n\u001b[1;32m      4\u001b[0m     \u001b[0;31m# os = np.where(b == -1)\u001b[0m\u001b[0;34m\u001b[0m\u001b[0;34m\u001b[0m\u001b[0;34m\u001b[0m\u001b[0m\n\u001b[1;32m      5\u001b[0m     \u001b[0mos\u001b[0m \u001b[0;34m=\u001b[0m \u001b[0mindex_2d\u001b[0m\u001b[0;34m(\u001b[0m\u001b[0mb\u001b[0m\u001b[0;34m,\u001b[0m \u001b[0;34m-\u001b[0m\u001b[0;36m1\u001b[0m\u001b[0;34m)\u001b[0m\u001b[0;34m\u001b[0m\u001b[0;34m\u001b[0m\u001b[0m\n\u001b[0;32m----> 6\u001b[0;31m     \u001b[0mb\u001b[0m\u001b[0;34m[\u001b[0m\u001b[0mxs\u001b[0m\u001b[0;34m]\u001b[0m \u001b[0;34m=\u001b[0m \u001b[0;34m-\u001b[0m\u001b[0;36m1\u001b[0m\u001b[0;34m\u001b[0m\u001b[0;34m\u001b[0m\u001b[0m\n\u001b[0m\u001b[1;32m      7\u001b[0m     \u001b[0mb\u001b[0m\u001b[0;34m[\u001b[0m\u001b[0mos\u001b[0m\u001b[0;34m]\u001b[0m \u001b[0;34m=\u001b[0m \u001b[0;36m1\u001b[0m\u001b[0;34m\u001b[0m\u001b[0;34m\u001b[0m\u001b[0m\n\u001b[1;32m      8\u001b[0m     \u001b[0;32mreturn\u001b[0m \u001b[0mb\u001b[0m\u001b[0;34m\u001b[0m\u001b[0;34m\u001b[0m\u001b[0m\n",
      "\u001b[0;31mTypeError\u001b[0m: list indices must be integers or slices, not tuple"
     ]
    }
   ],
   "source": [
    "def invertBoard(b):\n",
    "    # xs = np.where(b == 1)\n",
    "    xs = index_2d(b, 1)\n",
    "    # os = np.where(b == -1)\n",
    "    os = index_2d(b, -1)\n",
    "    b[xs] = -1\n",
    "    b[os] = 1\n",
    "    return b\n",
    "\n",
    "invertBoard(b)"
   ]
  }
 ],
 "metadata": {
  "interpreter": {
   "hash": "31f2aee4e71d21fbe5cf8b01ff0e069b9275f58929596ceb00d14d90e3e16cd6"
  },
  "kernelspec": {
   "display_name": "Python 3.8.10 64-bit",
   "language": "python",
   "name": "python3"
  },
  "language_info": {
   "codemirror_mode": {
    "name": "ipython",
    "version": 3
   },
   "file_extension": ".py",
   "mimetype": "text/x-python",
   "name": "python",
   "nbconvert_exporter": "python",
   "pygments_lexer": "ipython3",
   "version": "3.8.10"
  },
  "orig_nbformat": 4
 },
 "nbformat": 4,
 "nbformat_minor": 2
}
